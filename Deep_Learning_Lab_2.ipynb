{
  "nbformat": 4,
  "nbformat_minor": 0,
  "metadata": {
    "colab": {
      "name": "Deep Learning Lab 2.ipynb",
      "version": "0.3.2",
      "provenance": [],
      "collapsed_sections": [],
      "include_colab_link": true
    },
    "kernelspec": {
      "name": "python3",
      "display_name": "Python 3"
    }
  },
  "cells": [
    {
      "cell_type": "markdown",
      "metadata": {
        "id": "view-in-github",
        "colab_type": "text"
      },
      "source": [
        "<a href=\"https://colab.research.google.com/github/yngvib/DeepLearningCourse/blob/master/Deep_Learning_Lab_2.ipynb\" target=\"_parent\"><img src=\"https://colab.research.google.com/assets/colab-badge.svg\" alt=\"Open In Colab\"/></a>"
      ]
    },
    {
      "metadata": {
        "id": "QDyaXHLMdunA",
        "colab_type": "text"
      },
      "cell_type": "markdown",
      "source": [
        "# **Deep Learning LAB 2**\n",
        "\n",
        "The objectives of this lab is to further familiarize students with the basics of Keras and Deep Learning.   In particular, we will learn how to manipulate images, create learning models and parameterize them, see the effects of different activation functions and regularization terms, as well as how to visulize learning progress.\n",
        "\n",
        "This lab is slightly adapted from an online tutorial by Adrian Rosebrock.\n",
        "\n",
        "Read the code in each of the steps carefully with the aim of fully understand what is going on (the instructor will help as needed),. Then run each step.\n",
        "\n",
        "Once, you have finished going through all the steps, try to improve the test accuracy of the ANN, for example, by:\n",
        "\n",
        "*   using different activation function in the hidden layers\n",
        "*   increase number of layers\n",
        "*   add regularizers (see Keras documentation)\n",
        "\n",
        "Were you able to improve the test accuracy of the network? By how much? Which enhancements worked the best? Show your result to the lab instructor.\n",
        "\n",
        "\n",
        "\n",
        "\n"
      ]
    },
    {
      "metadata": {
        "id": "50tI6On4hjMg",
        "colab_type": "text"
      },
      "cell_type": "markdown",
      "source": [
        "# Step 1:  \"Upload\" the images in Colaboratory\n"
      ]
    },
    {
      "metadata": {
        "id": "S-RmRVXsh6fG",
        "colab_type": "code",
        "colab": {}
      },
      "cell_type": "code",
      "source": [
        "# Three thousand images of cats, dogs, and pandas (1000 each)\n",
        "!wget https://www.ru.is/~yngvi/ML/lab2.tgz\n",
        "!tar -xvzf lab2.tgz  "
      ],
      "execution_count": 0,
      "outputs": []
    },
    {
      "metadata": {
        "id": "5k22kd-aiEW3",
        "colab_type": "text"
      },
      "cell_type": "markdown",
      "source": [
        "# Step 2: Import necessary Python packages\n",
        "\n",
        "Apart from the necessary Keras packages, we will be using several other support libraries to make our life easier, for example, OpenCV for reading in (and manipulating) images, SciKit for transformations, etc.\n"
      ]
    },
    {
      "metadata": {
        "id": "XC2BTSUMiUMb",
        "colab_type": "code",
        "colab": {}
      },
      "cell_type": "code",
      "source": [
        "import os  # misc operating system specific operations, e.g., reading directries. \n",
        "import random\n",
        "\n",
        "import cv2\n",
        "import numpy as np\n",
        "\n",
        "from sklearn.preprocessing import LabelBinarizer\n",
        "from sklearn.model_selection import train_test_split\n",
        "\n",
        "from keras.models import Sequential\n",
        "from keras.layers.core import Dense\n",
        "from keras.optimizers import SGD\n",
        "from sklearn.metrics import classification_report\n",
        "\n",
        "import matplotlib.pyplot as plt\n",
        "\n",
        "#from keras import regularizers\n",
        "\n",
        "random_seed = 42   # include for reproducability"
      ],
      "execution_count": 0,
      "outputs": []
    },
    {
      "metadata": {
        "id": "1LQ_8yjHiWlS",
        "colab_type": "text"
      },
      "cell_type": "markdown",
      "source": [
        "# Step 3: Read in the filesystem paths of the images"
      ]
    },
    {
      "metadata": {
        "id": "f06FmCceipQv",
        "colab_type": "code",
        "colab": {}
      },
      "cell_type": "code",
      "source": [
        "print(\"[INFO] loading images...\")\n",
        "\n",
        "# Specify locations of input and output files.\n",
        "tutorial_dir = \"./lab2/\"\n",
        "args = {}\n",
        "args[\"dataset\"] = tutorial_dir + \"animals/\"\n",
        "args[\"model\"]   = tutorial_dir + \"output/simple_nn.model\"\n",
        "args[\"plot\"]    = tutorial_dir + \"output/simple_nn_plot.png\"\n",
        "\n",
        "# Read in the file paths of the images to use for the training.\n",
        "image_paths = list()\n",
        "for (dirpath, dirnames, filenames) in os.walk(args[\"dataset\"]):\n",
        "  for file in filenames:\n",
        "    if '.jpg' in file and not file.startswith('.'):\n",
        "      image_paths.append(os.path.join(dirpath, file))\n",
        "random.seed(random_seed)\n",
        "random.shuffle(image_paths)\n",
        "print(image_paths)"
      ],
      "execution_count": 0,
      "outputs": []
    },
    {
      "metadata": {
        "id": "L_hHPzR6iqje",
        "colab_type": "text"
      },
      "cell_type": "markdown",
      "source": [
        "# Step 4: Read in and preprocess the images"
      ]
    },
    {
      "metadata": {
        "id": "zncY-8TdjIUw",
        "colab_type": "code",
        "colab": {}
      },
      "cell_type": "code",
      "source": [
        "input_data   = []\n",
        "input_labels = []\n",
        "for image_path in image_paths:\n",
        "  # Load an image\n",
        "  image = cv2.imread(image_path)\n",
        "  # Resize it be 32x32 pixels (ignoring aspect ratio), and\n",
        "  # flatten it into a one-dimentional 32x32x3=3072 pixel image. \n",
        "  image = cv2.resize(image, (32, 32)).flatten()\n",
        "  # Store image in a list\n",
        "  input_data.append(image)  \n",
        "  # Extract the class label from the image path\n",
        "  label = image_path.split(os.path.sep)[-2]\n",
        "  # Store image label in a list\n",
        "  input_labels.append(label)\n",
        "\n",
        "# Normalize the pixel values to be in the range [0,1], and store as NumPy arrays.\n",
        "input_data   = np.array(input_data, dtype=\"float\") / 255.0\n",
        "input_labels = np.array(input_labels)\n",
        "print(input_data)\n",
        "print(input_labels)"
      ],
      "execution_count": 0,
      "outputs": []
    },
    {
      "metadata": {
        "id": "E7MTyKglsCR5",
        "colab_type": "text"
      },
      "cell_type": "markdown",
      "source": [
        "# Step 5: Split the data into test and training set, and reformat target values"
      ]
    },
    {
      "metadata": {
        "id": "kcuJGKxysWsF",
        "colab_type": "code",
        "colab": {}
      },
      "cell_type": "code",
      "source": [
        "# Split the data into training and testing sets\n",
        "(trainX, testX, trainY, testY) = train_test_split(\n",
        "            input_data, input_labels, test_size=0.25, random_state=random_seed)\n",
        "\n",
        "# Convert the target categorial labels into binary vectors \n",
        "# (for 2-class, binary classification you should use Keras' \n",
        "#  to_categorical function instead as the scikit-learn's LabelBinarizer)\n",
        "lb = LabelBinarizer()    # ... from scikit\n",
        "trainY = lb.fit_transform(trainY)  # ... from scikit\n",
        "testY  = lb.transform(testY)       # ... from scikit\n",
        "print(trainY)\n",
        "print(testY)\n"
      ],
      "execution_count": 0,
      "outputs": []
    },
    {
      "metadata": {
        "id": "rh9oORkrkdiZ",
        "colab_type": "text"
      },
      "cell_type": "markdown",
      "source": [
        "# Step 5: Create the ANN model, train it, and then evaluate it"
      ]
    },
    {
      "metadata": {
        "id": "50oeyBXLkhzk",
        "colab_type": "code",
        "colab": {}
      },
      "cell_type": "code",
      "source": [
        "# Define a 3072-1024-512-3 architecture using Keras\n",
        "model = Sequential()\n",
        "model.add(Dense(1024, input_shape=(3072,), activation=\"sigmoid\"))\n",
        "model.add(Dense(512, activation=\"sigmoid\"))\n",
        "model.add(Dense(len(lb.classes_), activation=\"softmax\"))\n",
        "\n",
        "# Set initial learning rate and number of epochs to train for\n",
        "INIT_LR = 0.01\n",
        "EPOCHS = 5\n",
        "\n",
        "# Compile the model using Stocastic-GD as our optimizer and categorical\n",
        "# cross-entropy loss function\n",
        "# (in case of 2-class classification, you would instead use binary_crossentropy)\n",
        "print(\"[INFO] training network...\")\n",
        "opt = SGD(lr=INIT_LR)\n",
        "model.compile(loss=\"categorical_crossentropy\", optimizer=opt, metrics=[\"accuracy\"])\n",
        "\n",
        "# Now train the ANN ...\n",
        "H = model.fit(trainX, trainY, validation_data=(testX, testY), epochs=EPOCHS, batch_size=32)\n",
        "\n",
        "# ... and then evaluate it.\n",
        "print(\"[INFO] evaluating network...\")\n",
        "predictions = model.predict(testX, batch_size=32)\n",
        "print(classification_report(testY.argmax(axis=1),\n",
        "\t       predictions.argmax(axis=1), target_names=lb.classes_))\n",
        "\n",
        "# Store the model on disk.\n",
        "print(\"[INFO] serializing and storing the model ...\")\n",
        "model.save(args[\"model\"])\n"
      ],
      "execution_count": 0,
      "outputs": []
    },
    {
      "metadata": {
        "id": "LBfa3Rno0sHc",
        "colab_type": "text"
      },
      "cell_type": "markdown",
      "source": [
        "# Output a graph with information about learning progress.\n"
      ]
    },
    {
      "metadata": {
        "id": "RSk_Sp570ynl",
        "colab_type": "code",
        "colab": {}
      },
      "cell_type": "code",
      "source": [
        "# Plot the training loss and accuracy\n",
        "N = np.arange(0, EPOCHS)\n",
        "plt.style.use(\"ggplot\")\n",
        "plt.figure()\n",
        "plt.plot(N, H.history[\"loss\"], label=\"train_loss\")\n",
        "plt.plot(N, H.history[\"val_loss\"], label=\"val_loss\")\n",
        "plt.plot(N, H.history[\"acc\"], label=\"train_acc\")\n",
        "plt.plot(N, H.history[\"val_acc\"], label=\"val_acc\")\n",
        "plt.title(\"Training Loss and Accuracy (Simple NN)\")\n",
        "plt.xlabel(\"Epoch #\")\n",
        "plt.ylabel(\"Loss/Accuracy\")\n",
        "plt.legend()\n",
        "plt.savefig(args[\"plot\"])"
      ],
      "execution_count": 0,
      "outputs": []
    }
  ]
}