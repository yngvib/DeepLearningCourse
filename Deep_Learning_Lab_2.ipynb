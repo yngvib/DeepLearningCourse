{
  "nbformat": 4,
  "nbformat_minor": 0,
  "metadata": {
    "colab": {
      "name": "Deep Learning Lab 2.ipynb",
      "version": "0.3.2",
      "provenance": [],
      "include_colab_link": true
    },
    "kernelspec": {
      "name": "python3",
      "display_name": "Python 3"
    }
  },
  "cells": [
    {
      "cell_type": "markdown",
      "metadata": {
        "id": "view-in-github",
        "colab_type": "text"
      },
      "source": [
        "<a href=\"https://colab.research.google.com/github/yngvib/DeepLearningCourse/blob/master/Deep_Learning_Lab_2.ipynb\" target=\"_parent\"><img src=\"https://colab.research.google.com/assets/colab-badge.svg\" alt=\"Open In Colab\"/></a>"
      ]
    },
    {
      "metadata": {
        "id": "eugcJ_bxdtb6",
        "colab_type": "code",
        "colab": {}
      },
      "cell_type": "code",
      "source": [
        ""
      ],
      "execution_count": 0,
      "outputs": []
    },
    {
      "metadata": {
        "id": "QDyaXHLMdunA",
        "colab_type": "text"
      },
      "cell_type": "markdown",
      "source": [
        "# **Deep Learning LAB 2**\n",
        "\n",
        "The objectives of this lab is to further familiarize students with the basics of Keras and Deep Learning.   In particular, we will learn how to manipulate images, create learning models and parameterize them, see the effects of different activation functions and regularization terms, as well as how to visulize learning progress.\n",
        "\n",
        "This lab is slightly adapted from an online tutorial by Adrian Rosebrock.\n",
        "\n",
        "\n"
      ]
    },
    {
      "metadata": {
        "id": "50tI6On4hjMg",
        "colab_type": "text"
      },
      "cell_type": "markdown",
      "source": [
        "# Step 1: Import necessary packages\n",
        "\n",
        "Apart from the necessary Keras packages, we will be using several other support libraries to make our life easier, for example, OpenCV for reading in (and manipulating) images."
      ]
    },
    {
      "metadata": {
        "id": "S-RmRVXsh6fG",
        "colab_type": "code",
        "colab": {}
      },
      "cell_type": "code",
      "source": [
        "import cv2"
      ],
      "execution_count": 0,
      "outputs": []
    },
    {
      "metadata": {
        "id": "5k22kd-aiEW3",
        "colab_type": "text"
      },
      "cell_type": "markdown",
      "source": [
        "# Step 2: \"Upload\" the images in Colaboratory\n"
      ]
    },
    {
      "metadata": {
        "id": "XC2BTSUMiUMb",
        "colab_type": "code",
        "colab": {}
      },
      "cell_type": "code",
      "source": [
        ""
      ],
      "execution_count": 0,
      "outputs": []
    },
    {
      "metadata": {
        "id": "1LQ_8yjHiWlS",
        "colab_type": "text"
      },
      "cell_type": "markdown",
      "source": [
        "# Step 3: Read in the filesystem paths of the images"
      ]
    },
    {
      "metadata": {
        "id": "f06FmCceipQv",
        "colab_type": "code",
        "colab": {}
      },
      "cell_type": "code",
      "source": [
        ""
      ],
      "execution_count": 0,
      "outputs": []
    },
    {
      "metadata": {
        "id": "L_hHPzR6iqje",
        "colab_type": "text"
      },
      "cell_type": "markdown",
      "source": [
        "# Step 4: Read in and manipulate the images to be suitable input features for the ANN"
      ]
    },
    {
      "metadata": {
        "id": "zncY-8TdjIUw",
        "colab_type": "code",
        "colab": {}
      },
      "cell_type": "code",
      "source": [
        ""
      ],
      "execution_count": 0,
      "outputs": []
    }
  ]
}